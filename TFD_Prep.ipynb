{
  "nbformat": 4,
  "nbformat_minor": 0,
  "metadata": {
    "colab": {
      "provenance": [],
      "authorship_tag": "ABX9TyPgem/YIIZT60dkipexcHnx",
      "include_colab_link": true
    },
    "kernelspec": {
      "name": "python3",
      "display_name": "Python 3"
    },
    "language_info": {
      "name": "python"
    }
  },
  "cells": [
    {
      "cell_type": "markdown",
      "metadata": {
        "id": "view-in-github",
        "colab_type": "text"
      },
      "source": [
        "<a href=\"https://colab.research.google.com/github/barramalik7/TFD-prep/blob/main/TFD_Prep.ipynb\" target=\"_parent\"><img src=\"https://colab.research.google.com/assets/colab-badge.svg\" alt=\"Open In Colab\"/></a>"
      ]
    },
    {
      "cell_type": "markdown",
      "source": [
        "# A1\n"
      ],
      "metadata": {
        "id": "Jg7ZDIgNC_4G"
      }
    },
    {
      "cell_type": "code",
      "execution_count": null,
      "metadata": {
        "id": "uN97257k_mMo"
      },
      "outputs": [],
      "source": [
        "# =================================================================================\n",
        "# PROBLEM A1 - Variation\n",
        "#\n",
        "# Given two arrays, train a neural network model to match the X to the Y.\n",
        "# Predict the model with new values of X [-3.0, 7.0]\n",
        "# We provide the model prediction, do not change the code.\n",
        "#\n",
        "# The test infrastructure expects a trained model that accepts\n",
        "# an input shape of [1].\n",
        "# Do not use lambda layers in your model.\n",
        "#\n",
        "# Please be aware that this is a linear model.\n",
        "# We will test your model with values in a range as defined in the array to make sure your model is linear.\n",
        "#\n",
        "# Desired loss (MSE) < 1e-4\n",
        "# =================================================================================\n",
        "\n",
        "\n",
        "import numpy as np\n",
        "import tensorflow as tf\n",
        "from tensorflow import keras\n",
        "\n",
        "\n",
        "def solution_A1_variation():\n",
        "  # DO NOT CHANGE THIS CODE\n",
        "  X = np.array([-5.0, -4.0, -3.0, -2.0, -1.0, 0.0, 1.0,\n",
        "                2.0, 3.0, 4.0, 5.0], dtype=float)\n",
        "  Y = np.array([4.0, 6.0, 8.0, 10.0, 12.0, 14.0, 16.0,\n",
        "                18.0, 20.0, 22.0, 24.0], dtype=float)\n",
        "\n",
        "  # YOUR CODE HERE (To train the model)\n",
        "  model = keras.Sequential()\n",
        "  model.add(keras.layers.Dense(units=1, input_shape=[1]))\n",
        "  model.compile(loss='mean_squared_error', optimizer='sgd')\n",
        "  model.fit(X, Y, epochs=1000)\n",
        "  # Print the model's prediction for [-3.0, 7.0]\n",
        "  # (I've removed the actual prediction code here)\n",
        "\n",
        "  print(model.predict([-2.0, 10.0]))\n",
        "  return model\n",
        "\n",
        "\n",
        "# The code below is to save your model as a .h5 file.\n",
        "# It will be saved automatically in your Submission folder.\n",
        "if __name__ == '__main__':\n",
        "    # DO NOT CHANGE THIS CODE\n",
        "  model = solution_A1_variation()\n",
        "  model.save(\"model_A1_variation.h5\")\n"
      ]
    },
    {
      "cell_type": "markdown",
      "source": [
        "# A2"
      ],
      "metadata": {
        "id": "DRypM8XKDJJx"
      }
    },
    {
      "cell_type": "code",
      "source": [
        "# =====================================================================================\n",
        "# PROBLEM A2 - Variation\n",
        "#\n",
        "# Build a Neural Network Model for the Horse or Human Dataset.\n",
        "# The test will expect it to classify binary classes.\n",
        "# Your input layer should accept 150x150 with 3 bytes color as the input shape.\n",
        "# Don't use lambda layers in your model.\n",
        "#\n",
        "# The dataset used in this problem is created by Laurence Moroney (laurencemoroney.com).\n",
        "#\n",
        "# Desired accuracy and validation_accuracy > 85%\n",
        "# ======================================================================================\n",
        "\n",
        "import urllib.request\n",
        "import zipfile\n",
        "import tensorflow as tf\n",
        "import os\n",
        "from keras.preprocessing.image import ImageDataGenerator\n",
        "from tensorflow.keras.optimizers import RMSprop\n",
        "\n",
        "\n",
        "def solution_A2_variation():\n",
        "    data_url_1 = 'https://github.com/dicodingacademy/assets/releases/download/release-horse-or-human/horse-or-human.zip'\n",
        "    urllib.request.urlretrieve(data_url_1, 'horse-or-human.zip')\n",
        "    local_file = 'horse-or-human.zip'\n",
        "    zip_ref = zipfile.ZipFile(local_file, 'r')\n",
        "    zip_ref.extractall('data/horse-or-human')\n",
        "\n",
        "    data_url_2 = 'https://github.com/dicodingacademy/assets/raw/main/Simulation/machine_learning/validation-horse-or-human.zip'\n",
        "    urllib.request.urlretrieve(data_url_2, 'validation-horse-or-human.zip')\n",
        "    local_file = 'validation-horse-or-human.zip'\n",
        "    zip_ref = zipfile.ZipFile(local_file, 'r')\n",
        "    zip_ref.extractall('data/validation-horse-or-human')\n",
        "    zip_ref.close()\n",
        "\n",
        "    TRAINING_DIR = 'data/horse-or-human'\n",
        "    train_datagen = ImageDataGenerator(\n",
        "        rescale=1.0 / 255.0,\n",
        "        width_shift_range=0.2,\n",
        "        height_shift_range=0.2,\n",
        "        zoom_range=0.2,\n",
        "        horizontal_flip=True,\n",
        "        fill_mode='nearest'\n",
        "    )\n",
        "\n",
        "    # YOUR IMAGE SIZE SHOULD BE 150x150\n",
        "    train_generator = train_datagen.flow_from_directory(\n",
        "        TRAINING_DIR,\n",
        "        target_size=(150, 150),\n",
        "        batch_size=128,\n",
        "        class_mode='binary'\n",
        "    )\n",
        "\n",
        "    VALIDATION_DIR = 'data/validation-horse-or-human'\n",
        "    validation_datagen = ImageDataGenerator(rescale=1.0 / 255.0)\n",
        "\n",
        "    validation_generator = validation_datagen.flow_from_directory(\n",
        "        VALIDATION_DIR,\n",
        "        target_size=(150, 150),\n",
        "        batch_size=128,\n",
        "        class_mode='binary'\n",
        "    )\n",
        "\n",
        "    model = tf.keras.models.Sequential()\n",
        "    # YOUR CODE HERE (Add layers to the model)\n",
        "    model.add(tf.keras.layers.Conv2D(32, (3,3), activation='relu', input_shape=(150,150,3)))\n",
        "    model.add(tf.keras.layers.MaxPooling2D(2,2))\n",
        "    model.add(tf.keras.layers.Conv2D(32, (3,3), activation='relu', input_shape=(150,150,3)))\n",
        "    model.add(tf.keras.layers.MaxPooling2D(2,2))\n",
        "    model.add(tf.keras.layers.Conv2D(64, (3,3), activation='relu', input_shape=(150,150,3)))\n",
        "    model.add(tf.keras.layers.MaxPooling2D(2,2))\n",
        "    model.add(tf.keras.layers.Conv2D(64, (3,3), activation='relu', input_shape=(150,150,3)))\n",
        "    model.add(tf.keras.layers.MaxPooling2D(2,2))\n",
        "    model.add(tf.keras.layers.Flatten())\n",
        "    model.add(tf.keras.layers.Dense(512, activation='relu'))\n",
        "    model.add(tf.keras.layers.Dense(1, activation='sigmoid'))\n",
        "    model.compile(loss='binary_crossentropy', optimizer=RMSprop(learning_rate=0.001), metrics=['accuracy'])\n",
        "\n",
        "    history = model.fit(\n",
        "        train_generator,\n",
        "        steps_per_epoch=8,\n",
        "        epochs=15,\n",
        "        verbose=1,\n",
        "        validation_data=validation_generator,\n",
        "    )\n",
        "\n",
        "    return model\n",
        "\n",
        "\n",
        "# The code below is to save your model as a .h5 file.\n",
        "# It will be saved automatically in your Submission folder.\n",
        "if __name__ == '__main__':\n",
        "    # DO NOT CHANGE THIS CODE\n",
        "    model = solution_A2_variation()\n",
        "    model.save(\"model_A2_variation.h5\")\n"
      ],
      "metadata": {
        "colab": {
          "base_uri": "https://localhost:8080/"
        },
        "id": "xYpqkXFmC8jJ",
        "outputId": "b81ee669-1849-4aa3-d2e3-fa1a54a28c53"
      },
      "execution_count": null,
      "outputs": [
        {
          "output_type": "stream",
          "name": "stdout",
          "text": [
            "Found 1027 images belonging to 2 classes.\n",
            "Found 256 images belonging to 2 classes.\n",
            "Epoch 1/15\n",
            "8/8 [==============================] - 53s 7s/step - loss: 0.7438 - accuracy: 0.5017 - val_loss: 0.6924 - val_accuracy: 0.5000\n",
            "Epoch 2/15\n",
            "8/8 [==============================] - 43s 5s/step - loss: 0.7067 - accuracy: 0.5128 - val_loss: 0.6882 - val_accuracy: 0.5000\n",
            "Epoch 3/15\n",
            "8/8 [==============================] - 44s 5s/step - loss: 0.6917 - accuracy: 0.5117 - val_loss: 0.6870 - val_accuracy: 0.5000\n",
            "Epoch 4/15\n",
            "8/8 [==============================] - 47s 6s/step - loss: 0.6673 - accuracy: 0.5498 - val_loss: 0.8164 - val_accuracy: 0.5039\n",
            "Epoch 5/15\n",
            "8/8 [==============================] - 45s 5s/step - loss: 0.6252 - accuracy: 0.6040 - val_loss: 0.5652 - val_accuracy: 0.9219\n",
            "Epoch 6/15\n",
            "8/8 [==============================] - 41s 5s/step - loss: 0.6666 - accuracy: 0.6796 - val_loss: 0.5565 - val_accuracy: 0.7969\n",
            "Epoch 7/15\n",
            "7/8 [=========================>....] - ETA: 4s - loss: 0.6046 - accuracy: 0.6991 "
          ]
        }
      ]
    },
    {
      "cell_type": "markdown",
      "source": [
        "# A3"
      ],
      "metadata": {
        "id": "G6xFn-RhD1qf"
      }
    },
    {
      "cell_type": "code",
      "source": [],
      "metadata": {
        "id": "Uov62YutD7Bq"
      },
      "execution_count": null,
      "outputs": []
    },
    {
      "cell_type": "markdown",
      "source": [
        "# A4"
      ],
      "metadata": {
        "id": "Hb5hCIx5D3mm"
      }
    },
    {
      "cell_type": "code",
      "source": [],
      "metadata": {
        "id": "4IG_INmPD7uF"
      },
      "execution_count": null,
      "outputs": []
    },
    {
      "cell_type": "markdown",
      "source": [
        "# A5"
      ],
      "metadata": {
        "id": "aNajVfcRD5Yc"
      }
    },
    {
      "cell_type": "code",
      "source": [],
      "metadata": {
        "id": "acfy8y3tAXzQ"
      },
      "execution_count": null,
      "outputs": []
    }
  ]
}